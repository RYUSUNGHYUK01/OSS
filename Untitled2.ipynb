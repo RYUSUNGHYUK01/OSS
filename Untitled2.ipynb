{
  "nbformat": 4,
  "nbformat_minor": 0,
  "metadata": {
    "colab": {
      "provenance": [],
      "authorship_tag": "ABX9TyPIyVnKh9pWTJig0Ih4EAnI",
      "include_colab_link": true
    },
    "kernelspec": {
      "name": "python3",
      "display_name": "Python 3"
    },
    "language_info": {
      "name": "python"
    }
  },
  "cells": [
    {
      "cell_type": "markdown",
      "metadata": {
        "id": "view-in-github",
        "colab_type": "text"
      },
      "source": [
        "<a href=\"https://colab.research.google.com/github/RYUSUNGHYUK01/OSS/blob/mybranch/Untitled2.ipynb\" target=\"_parent\"><img src=\"https://colab.research.google.com/assets/colab-badge.svg\" alt=\"Open In Colab\"/></a>"
      ]
    },
    {
      "cell_type": "code",
      "execution_count": 6,
      "metadata": {
        "colab": {
          "base_uri": "https://localhost:8080/"
        },
        "id": "RLFzCjgMC4Xc",
        "outputId": "4d79933a-fe68-4eb2-dbf6-4450a16ab6e4"
      },
      "outputs": [
        {
          "output_type": "stream",
          "name": "stdout",
          "text": [
            "Writing mycalc/calculator.py\n"
          ]
        }
      ],
      "source": [
        "%%writefile mycalc/calculator.py\n",
        "def add(a, b):\n",
        "    return a+b"
      ]
    },
    {
      "cell_type": "code",
      "source": [
        "%%writefile setup.py\n",
        "import setuptools\n",
        "\n",
        "setuptools.setup(\n",
        "    name='sunghyuk',\n",
        "    version='0.0.2',\n",
        "    description='oss',\n",
        "    author='sunghyuk',\n",
        "    url=\"\",\n",
        "    download_url=\"\",\n",
        "    packages=['mycalc'],\n",
        "    classfiers=[\n",
        "        \"Programming Language :: Python :: 3\",\n",
        "    ]\n",
        ")"
      ],
      "metadata": {
        "colab": {
          "base_uri": "https://localhost:8080/"
        },
        "id": "UiMmK-JaF0OM",
        "outputId": "16f3b1fa-8ebc-44d0-fa58-9a269c50f6ae"
      },
      "execution_count": 15,
      "outputs": [
        {
          "output_type": "stream",
          "name": "stdout",
          "text": [
            "Overwriting setup.py\n"
          ]
        }
      ]
    },
    {
      "cell_type": "code",
      "source": [
        "!pip install wheel"
      ],
      "metadata": {
        "colab": {
          "base_uri": "https://localhost:8080/"
        },
        "id": "JGUzArcyIjZb",
        "outputId": "aa7d6c7c-38e3-4b54-d982-e93ec6084c42"
      },
      "execution_count": 16,
      "outputs": [
        {
          "output_type": "stream",
          "name": "stdout",
          "text": [
            "Looking in indexes: https://pypi.org/simple, https://us-python.pkg.dev/colab-wheels/public/simple/\n",
            "Requirement already satisfied: wheel in /usr/local/lib/python3.9/dist-packages (0.40.0)\n"
          ]
        }
      ]
    },
    {
      "cell_type": "code",
      "source": [
        "!pip install twine"
      ],
      "metadata": {
        "colab": {
          "base_uri": "https://localhost:8080/"
        },
        "id": "bDvALXbEIvhD",
        "outputId": "646dce67-a7c6-4a94-9f6c-a6f51e9ae04a"
      },
      "execution_count": 17,
      "outputs": [
        {
          "output_type": "stream",
          "name": "stdout",
          "text": [
            "Looking in indexes: https://pypi.org/simple, https://us-python.pkg.dev/colab-wheels/public/simple/\n",
            "Requirement already satisfied: twine in /usr/local/lib/python3.9/dist-packages (4.0.2)\n",
            "Requirement already satisfied: urllib3>=1.26.0 in /usr/local/lib/python3.9/dist-packages (from twine) (1.26.15)\n",
            "Requirement already satisfied: importlib-metadata>=3.6 in /usr/local/lib/python3.9/dist-packages (from twine) (6.1.0)\n",
            "Requirement already satisfied: requests>=2.20 in /usr/local/lib/python3.9/dist-packages (from twine) (2.27.1)\n",
            "Requirement already satisfied: rich>=12.0.0 in /usr/local/lib/python3.9/dist-packages (from twine) (13.3.3)\n",
            "Requirement already satisfied: readme-renderer>=35.0 in /usr/local/lib/python3.9/dist-packages (from twine) (37.3)\n",
            "Requirement already satisfied: rfc3986>=1.4.0 in /usr/local/lib/python3.9/dist-packages (from twine) (2.0.0)\n",
            "Requirement already satisfied: pkginfo>=1.8.1 in /usr/local/lib/python3.9/dist-packages (from twine) (1.9.6)\n",
            "Requirement already satisfied: keyring>=15.1 in /usr/local/lib/python3.9/dist-packages (from twine) (23.13.1)\n",
            "Requirement already satisfied: requests-toolbelt!=0.9.0,>=0.8.0 in /usr/local/lib/python3.9/dist-packages (from twine) (0.10.1)\n",
            "Requirement already satisfied: zipp>=0.5 in /usr/local/lib/python3.9/dist-packages (from importlib-metadata>=3.6->twine) (3.15.0)\n",
            "Requirement already satisfied: jaraco.classes in /usr/local/lib/python3.9/dist-packages (from keyring>=15.1->twine) (3.2.3)\n",
            "Requirement already satisfied: SecretStorage>=3.2 in /usr/local/lib/python3.9/dist-packages (from keyring>=15.1->twine) (3.3.3)\n",
            "Requirement already satisfied: jeepney>=0.4.2 in /usr/local/lib/python3.9/dist-packages (from keyring>=15.1->twine) (0.8.0)\n",
            "Requirement already satisfied: Pygments>=2.5.1 in /usr/local/lib/python3.9/dist-packages (from readme-renderer>=35.0->twine) (2.14.0)\n",
            "Requirement already satisfied: bleach>=2.1.0 in /usr/local/lib/python3.9/dist-packages (from readme-renderer>=35.0->twine) (6.0.0)\n",
            "Requirement already satisfied: docutils>=0.13.1 in /usr/local/lib/python3.9/dist-packages (from readme-renderer>=35.0->twine) (0.16)\n",
            "Requirement already satisfied: certifi>=2017.4.17 in /usr/local/lib/python3.9/dist-packages (from requests>=2.20->twine) (2022.12.7)\n",
            "Requirement already satisfied: idna<4,>=2.5 in /usr/local/lib/python3.9/dist-packages (from requests>=2.20->twine) (3.4)\n",
            "Requirement already satisfied: charset-normalizer~=2.0.0 in /usr/local/lib/python3.9/dist-packages (from requests>=2.20->twine) (2.0.12)\n",
            "Requirement already satisfied: markdown-it-py<3.0.0,>=2.2.0 in /usr/local/lib/python3.9/dist-packages (from rich>=12.0.0->twine) (2.2.0)\n",
            "Requirement already satisfied: webencodings in /usr/local/lib/python3.9/dist-packages (from bleach>=2.1.0->readme-renderer>=35.0->twine) (0.5.1)\n",
            "Requirement already satisfied: six>=1.9.0 in /usr/local/lib/python3.9/dist-packages (from bleach>=2.1.0->readme-renderer>=35.0->twine) (1.16.0)\n",
            "Requirement already satisfied: mdurl~=0.1 in /usr/local/lib/python3.9/dist-packages (from markdown-it-py<3.0.0,>=2.2.0->rich>=12.0.0->twine) (0.1.2)\n",
            "Requirement already satisfied: cryptography>=2.0 in /usr/local/lib/python3.9/dist-packages (from SecretStorage>=3.2->keyring>=15.1->twine) (40.0.1)\n",
            "Requirement already satisfied: more-itertools in /usr/local/lib/python3.9/dist-packages (from jaraco.classes->keyring>=15.1->twine) (9.1.0)\n",
            "Requirement already satisfied: cffi>=1.12 in /usr/local/lib/python3.9/dist-packages (from cryptography>=2.0->SecretStorage>=3.2->keyring>=15.1->twine) (1.15.1)\n",
            "Requirement already satisfied: pycparser in /usr/local/lib/python3.9/dist-packages (from cffi>=1.12->cryptography>=2.0->SecretStorage>=3.2->keyring>=15.1->twine) (2.21)\n"
          ]
        }
      ]
    },
    {
      "cell_type": "code",
      "source": [
        "!python setup.py bdist_wheel"
      ],
      "metadata": {
        "colab": {
          "base_uri": "https://localhost:8080/"
        },
        "id": "lhonEQNTI3vU",
        "outputId": "9b5239ed-4041-40c9-b547-a954cc0330b2"
      },
      "execution_count": 18,
      "outputs": [
        {
          "output_type": "stream",
          "name": "stdout",
          "text": [
            "/usr/lib/python3.9/distutils/dist.py:274: UserWarning: Unknown distribution option: 'classfiers'\n",
            "  warnings.warn(msg)\n",
            "running bdist_wheel\n",
            "running build\n",
            "running build_py\n",
            "package init file 'mycalc/__init__.py' not found (or not a regular file)\n",
            "/usr/local/lib/python3.9/dist-packages/setuptools/command/install.py:34: SetuptoolsDeprecationWarning: setup.py install is deprecated. Use build and pip and other standards-based tools.\n",
            "  warnings.warn(\n",
            "installing to build/bdist.linux-x86_64/wheel\n",
            "running install\n",
            "running install_lib\n",
            "creating build/bdist.linux-x86_64/wheel\n",
            "creating build/bdist.linux-x86_64/wheel/mycalc\n",
            "copying build/lib/mycalc/calculator.py -> build/bdist.linux-x86_64/wheel/mycalc\n",
            "running install_egg_info\n",
            "running egg_info\n",
            "writing sunghyuk.egg-info/PKG-INFO\n",
            "writing dependency_links to sunghyuk.egg-info/dependency_links.txt\n",
            "writing top-level names to sunghyuk.egg-info/top_level.txt\n",
            "reading manifest file 'sunghyuk.egg-info/SOURCES.txt'\n",
            "writing manifest file 'sunghyuk.egg-info/SOURCES.txt'\n",
            "Copying sunghyuk.egg-info to build/bdist.linux-x86_64/wheel/sunghyuk-0.0.2-py3.9.egg-info\n",
            "running install_scripts\n",
            "creating build/bdist.linux-x86_64/wheel/sunghyuk-0.0.2.dist-info/WHEEL\n",
            "creating 'dist/sunghyuk-0.0.2-py3-none-any.whl' and adding 'build/bdist.linux-x86_64/wheel' to it\n",
            "adding 'mycalc/calculator.py'\n",
            "adding 'sunghyuk-0.0.2.dist-info/METADATA'\n",
            "adding 'sunghyuk-0.0.2.dist-info/WHEEL'\n",
            "adding 'sunghyuk-0.0.2.dist-info/top_level.txt'\n",
            "adding 'sunghyuk-0.0.2.dist-info/RECORD'\n",
            "removing build/bdist.linux-x86_64/wheel\n"
          ]
        }
      ]
    },
    {
      "cell_type": "code",
      "source": [
        "!twine upload -u sunghyuk -p vitny12034 /content/dist/sunghyuk-0.0.2-py3-none-any.whl"
      ],
      "metadata": {
        "colab": {
          "base_uri": "https://localhost:8080/"
        },
        "id": "6xX6c2tZJNDr",
        "outputId": "9834ecfc-9911-404a-820d-dc6f8beb62e2"
      },
      "execution_count": 21,
      "outputs": [
        {
          "output_type": "stream",
          "name": "stdout",
          "text": [
            "Uploading distributions to https://upload.pypi.org/legacy/\n",
            "Uploading sunghyuk-0.0.2-py3-none-any.whl\n",
            "\u001b[2K\u001b[35m100%\u001b[0m \u001b[90m━━━━━━━━━━━━━━━━━━━━━━━━━━━━━━━━━━━━━━━━\u001b[0m \u001b[32m3.9/3.9 kB\u001b[0m • \u001b[33m00:00\u001b[0m • \u001b[31m?\u001b[0m\n",
            "\u001b[?25h\n",
            "\u001b[32mView at:\u001b[0m\n",
            "https://pypi.org/project/sunghyuk/0.0.2/\n"
          ]
        }
      ]
    },
    {
      "cell_type": "code",
      "source": [
        "!pip install sunghyuk==0.0.2"
      ],
      "metadata": {
        "colab": {
          "base_uri": "https://localhost:8080/"
        },
        "id": "Gwak8zykLS30",
        "outputId": "9d30a351-6819-4dc1-9387-12dffd8f27c8"
      },
      "execution_count": 23,
      "outputs": [
        {
          "output_type": "stream",
          "name": "stdout",
          "text": [
            "Looking in indexes: https://pypi.org/simple, https://us-python.pkg.dev/colab-wheels/public/simple/\n",
            "Collecting sunghyuk==0.0.2\n",
            "  Using cached sunghyuk-0.0.2-py3-none-any.whl (1.2 kB)\n",
            "Installing collected packages: sunghyuk\n",
            "Successfully installed sunghyuk-0.0.2\n"
          ]
        }
      ]
    },
    {
      "cell_type": "code",
      "source": [
        "import mycalc\n",
        "from mycalc import calculator"
      ],
      "metadata": {
        "id": "NP0bBVQxLjJz"
      },
      "execution_count": 25,
      "outputs": []
    },
    {
      "cell_type": "code",
      "source": [
        "v = calculator.add(5,6)\n",
        "print(v)"
      ],
      "metadata": {
        "colab": {
          "base_uri": "https://localhost:8080/"
        },
        "id": "X9DKte_gLzNj",
        "outputId": "e870d941-adff-48a1-e5a9-17b5d421f207"
      },
      "execution_count": 28,
      "outputs": [
        {
          "output_type": "stream",
          "name": "stdout",
          "text": [
            "11\n"
          ]
        }
      ]
    }
  ]
}